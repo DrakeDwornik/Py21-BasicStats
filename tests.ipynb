{
 "cells": [
  {
   "cell_type": "markdown",
   "metadata": {},
   "source": [
    "# analyzing the CSV files using my home made stats\n",
    "## This will use additional funtions for glue (such as `open`)"
   ]
  },
  {
   "cell_type": "markdown",
   "metadata": {},
   "source": [
    "### load the files into a dictionaries"
   ]
  },
  {
   "cell_type": "code",
   "execution_count": 9,
   "metadata": {},
   "outputs": [
    {
     "name": "stdout",
     "output_type": "stream",
     "text": [
      "{'x': ['10', '8', '13', '9', '11', '14', '6', '4', '12', '7', '5'], 'y': ['9.14', '8.14', '8.74', '8.77', '9.26', '8.1', '6.13', '3.1', '9.13', '7.26', '4.74']}\n"
     ]
    }
   ],
   "source": [
    "dataOne_file = open(\"dataOne.csv\")\n",
    "lines = []\n",
    "first_line = True\n",
    "dataOne = {'x': [], 'y': []}\n",
    "for line in dataOne_file:\n",
    "    items = line.strip().split(',')\n",
    "    if first_line:\n",
    "        first_line = False\n",
    "    else:\n",
    "        dataOne['x'] += [items[0]]\n",
    "        dataOne['y'] += [items[1]]\n",
    "    \n",
    "dataOne_file.close()"
   ]
  }
 ],
 "metadata": {
  "interpreter": {
   "hash": "aee8b7b246df8f9039afb4144a1f6fd8d2ca17a180786b69acc140d282b71a49"
  },
  "kernelspec": {
   "display_name": "Python 3.9.7 64-bit",
   "language": "python",
   "name": "python3"
  },
  "language_info": {
   "codemirror_mode": {
    "name": "ipython",
    "version": 3
   },
   "file_extension": ".py",
   "mimetype": "text/x-python",
   "name": "python",
   "nbconvert_exporter": "python",
   "pygments_lexer": "ipython3",
   "version": "3.9.7"
  },
  "orig_nbformat": 4
 },
 "nbformat": 4,
 "nbformat_minor": 2
}
