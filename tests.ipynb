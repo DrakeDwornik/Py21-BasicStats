{
 "cells": [
  {
   "cell_type": "markdown",
   "metadata": {},
   "source": [
    "# analyzing the CSV files using my home made stats\n",
    "## This will use additional funtions for glue (such as `open`)"
   ]
  },
  {
   "cell_type": "markdown",
   "metadata": {},
   "source": [
    "### import stats"
   ]
  },
  {
   "cell_type": "code",
   "execution_count": 42,
   "metadata": {},
   "outputs": [],
   "source": [
    "import statzcw"
   ]
  },
  {
   "cell_type": "markdown",
   "metadata": {},
   "source": [
    "### load the files into a dictionaries"
   ]
  },
  {
   "cell_type": "code",
   "execution_count": 43,
   "metadata": {},
   "outputs": [
    {
     "name": "stdout",
     "output_type": "stream",
     "text": [
      "{'x': [10.0, 8.0, 13.0, 9.0, 11.0, 14.0, 6.0, 4.0, 12.0, 7.0, 5.0], 'y': [8.04, 6.95, 7.58, 8.81, 8.33, 9.96, 7.24, 4.26, 10.84, 4.82, 5.68]}\n"
     ]
    }
   ],
   "source": [
    "dataZero_file = open(\"dataZero.csv\")\n",
    "lines = []\n",
    "first_line = True\n",
    "dataZero = {'x': [], 'y': []}\n",
    "for line in dataZero_file:\n",
    "    items = line.strip().split(',')\n",
    "    if first_line:\n",
    "        first_line = False\n",
    "    else:\n",
    "        dataZero['x'] += [float(items[0])]\n",
    "        dataZero['y'] += [float(items[1])]\n",
    "    \n",
    "dataZero_file.close()\n",
    "print(dataZero)"
   ]
  },
  {
   "cell_type": "code",
   "execution_count": 44,
   "metadata": {},
   "outputs": [
    {
     "name": "stdout",
     "output_type": "stream",
     "text": [
      "{'x': [10.0, 8.0, 13.0, 9.0, 11.0, 14.0, 6.0, 4.0, 12.0, 7.0, 5.0], 'y': [9.14, 8.14, 8.74, 8.77, 9.26, 8.1, 6.13, 3.1, 9.13, 7.26, 4.74]}\n"
     ]
    }
   ],
   "source": [
    "dataOne_file = open(\"dataOne.csv\")\n",
    "lines = []\n",
    "first_line = True\n",
    "dataOne = {'x': [], 'y': []}\n",
    "for line in dataOne_file:\n",
    "    items = line.strip().split(',')\n",
    "    if first_line:\n",
    "        first_line = False\n",
    "    else:\n",
    "        dataOne['x'] += [float(items[0])]\n",
    "        dataOne['y'] += [float(items[1])]\n",
    "    \n",
    "dataOne_file.close()\n",
    "print(dataOne)"
   ]
  },
  {
   "cell_type": "code",
   "execution_count": 45,
   "metadata": {},
   "outputs": [
    {
     "name": "stdout",
     "output_type": "stream",
     "text": [
      "{'x': [10.0, 8.0, 13.0, 9.0, 11.0, 14.0, 6.0, 4.0, 12.0, 7.0, 5.0], 'y': [7.46, 6.77, 12.74, 7.11, 7.81, 8.84, 6.08, 5.39, 8.15, 6.42, 5.73]}\n"
     ]
    }
   ],
   "source": [
    "dataTwo_file = open(\"dataTwo.csv\")\n",
    "lines = []\n",
    "first_line = True\n",
    "dataTwo = {'x': [], 'y': []}\n",
    "for line in dataTwo_file:\n",
    "    items = line.strip().split(',')\n",
    "    if first_line:\n",
    "        first_line = False\n",
    "    else:\n",
    "        dataTwo['x'] += [float(items[0])]\n",
    "        dataTwo['y'] += [float(items[1])]\n",
    "    \n",
    "dataTwo_file.close()\n",
    "print(dataTwo)"
   ]
  },
  {
   "cell_type": "code",
   "execution_count": 46,
   "metadata": {},
   "outputs": [
    {
     "name": "stdout",
     "output_type": "stream",
     "text": [
      "{'x': [8.0, 8.0, 8.0, 8.0, 8.0, 8.0, 8.0, 19.0, 8.0, 8.0, 8.0], 'y': [6.58, 5.76, 7.71, 8.84, 8.47, 7.04, 5.25, 12.5, 5.56, 7.91, 6.89]}\n"
     ]
    }
   ],
   "source": [
    "dataThree_file = open(\"dataThree.csv\")\n",
    "lines = []\n",
    "first_line = True\n",
    "dataThree = {'x': [], 'y': []}\n",
    "for line in dataThree_file:\n",
    "    items = line.strip().split(',')\n",
    "    if first_line:\n",
    "        first_line = False\n",
    "    else:\n",
    "        dataThree['x'] += [float(items[0])]\n",
    "        dataThree['y'] += [float(items[1])]\n",
    "    \n",
    "dataThree_file.close()\n",
    "print(dataThree)"
   ]
  },
  {
   "cell_type": "markdown",
   "metadata": {},
   "source": [
    "## The analysis"
   ]
  },
  {
   "cell_type": "code",
   "execution_count": 47,
   "metadata": {},
   "outputs": [
    {
     "name": "stdout",
     "output_type": "stream",
     "text": [
      "details for dataZero\n",
      "count X for dataZero = 11\n",
      "count Y for dataZero = 11\n",
      "mean X for dataZero = 9.0\n",
      "sample variance X for dataZero = 11.0\n",
      "mean Y for dataZero = 7.5009\n",
      "sample variance Y for dataZero = 4.1273\n",
      "Correlation between X and Y for dataZero = 0.8164\n",
      "Median X for dataZero = 9.0\n",
      "Median Y for dataZero = 7.58\n",
      "Mode X for dataZero = 4.0\n",
      "Mode Y for dataZero = 4.26\n",
      "Standard Deviation X for dataZero = 3.3166\n",
      "Standard Deviation Y for dataZero = 2.0316\n",
      "Standard Error X for dataZero = 1.0\n",
      "Standard Error Y for dataZero = 0.6125\n",
      "data x = [4.0, 5.0, 6.0, 7.0, 8.0, 9.0, 10.0, 11.0, 12.0, 13.0, 14.0]\n",
      "data y = [4.26, 4.82, 5.68, 6.95, 7.24, 7.58, 8.04, 8.33, 8.81, 9.96, 10.84]\n",
      "\n",
      "\n",
      "\n",
      "\n",
      "details for dataOne\n",
      "count X for dataOne = 11\n",
      "count Y for dataOne = 11\n",
      "mean X for dataOne = 9.0\n",
      "sample variance X for dataOne = 11.0\n",
      "mean Y for dataOne = 7.5009\n",
      "sample variance Y for dataOne = 4.1276\n",
      "Correlation between X and Y for dataOne = 0.8162\n",
      "Median X for dataOne = 9.0\n",
      "Median Y for dataOne = 8.14\n",
      "Mode X for dataOne = 4.0\n",
      "Mode Y for dataOne = 3.1\n",
      "Standard Deviation X for dataOne = 3.3166\n",
      "Standard Deviation Y for dataOne = 2.0317\n",
      "Standard Error X for dataOne = 1.0\n",
      "Standard Error Y for dataOne = 0.6126\n",
      "data x = [4.0, 5.0, 6.0, 7.0, 8.0, 9.0, 10.0, 11.0, 12.0, 13.0, 14.0]\n",
      "data y = [3.1, 4.74, 6.13, 7.26, 8.1, 8.14, 8.74, 8.77, 9.13, 9.14, 9.26]\n",
      "\n",
      "\n",
      "\n",
      "\n",
      "details for dataTwo\n",
      "count X for dataTwo = 11\n",
      "count Y for dataTwo = 11\n",
      "mean X for dataTwo = 9.0\n",
      "sample variance X for dataTwo = 11.0\n",
      "mean Y for dataTwo = 7.5\n",
      "sample variance Y for dataTwo = 4.1226\n",
      "Correlation between X and Y for dataTwo = 0.8163\n",
      "Median X for dataTwo = 9.0\n",
      "Median Y for dataTwo = 7.11\n",
      "Mode X for dataTwo = 4.0\n",
      "Mode Y for dataTwo = 5.39\n",
      "Standard Deviation X for dataTwo = 3.3166\n",
      "Standard Deviation Y for dataTwo = 2.0304\n",
      "Standard Error X for dataTwo = 1.0\n",
      "Standard Error Y for dataTwo = 0.6122\n",
      "data x = [4.0, 5.0, 6.0, 7.0, 8.0, 9.0, 10.0, 11.0, 12.0, 13.0, 14.0]\n",
      "data y = [5.39, 5.73, 6.08, 6.42, 6.77, 7.11, 7.46, 7.81, 8.15, 8.84, 12.74]\n",
      "\n",
      "\n",
      "\n",
      "\n",
      "details for dataThree\n",
      "count X for dataThree = 11\n",
      "count Y for dataThree = 11\n",
      "mean X for dataThree = 9.0\n",
      "sample variance X for dataThree = 11.0\n",
      "mean Y for dataThree = 7.5009\n",
      "sample variance Y for dataThree = 4.1232\n",
      "Correlation between X and Y for dataThree = 0.8165\n",
      "Median X for dataThree = 8.0\n",
      "Median Y for dataThree = 7.04\n",
      "Mode X for dataThree = 8.0\n",
      "Mode Y for dataThree = 5.25\n",
      "Standard Deviation X for dataThree = 3.3166\n",
      "Standard Deviation Y for dataThree = 2.0306\n",
      "Standard Error X for dataThree = 1.0\n",
      "Standard Error Y for dataThree = 0.6122\n",
      "data x = [8.0, 8.0, 8.0, 8.0, 8.0, 8.0, 8.0, 8.0, 8.0, 8.0, 19.0]\n",
      "data y = [5.25, 5.56, 5.76, 6.58, 6.89, 7.04, 7.71, 7.91, 8.47, 8.84, 12.5]\n",
      "\n",
      "\n",
      "\n",
      "\n"
     ]
    }
   ],
   "source": [
    "for (file_name, data) in [(\"dataZero\", dataZero),(\"dataOne\", dataOne),(\"dataTwo\", dataTwo),(\"dataThree\", dataThree)]:\n",
    "    print(f\"details for {file_name}\")\n",
    "    print(f\"count X for {file_name} = {statzcw.zcount(data['x'])}\")\n",
    "    print(f\"count Y for {file_name} = {statzcw.zcount(data['y'])}\")\n",
    "    print(f\"mean X for {file_name} = {round(statzcw.zmean(data['x']),4)}\")\n",
    "    print(f\"sample variance X for {file_name} = {round(statzcw.zvariance(data['x']),4)}\")\n",
    "    print(f\"mean Y for {file_name} = {round(statzcw.zmean(data['y']),4)}\")\n",
    "    print(f\"sample variance Y for {file_name} = {round(statzcw.zvariance(data['y']),4)}\")\n",
    "    print(f\"Correlation between X and Y for {file_name} = {round(statzcw.zcorr(data['x'],data['y']),4)}\")\n",
    "    print(f\"Median X for {file_name} = {round(statzcw.zmedian(data['x']),4)}\")\n",
    "    print(f\"Median Y for {file_name} = {round(statzcw.zmedian(data['y']),4)}\")\n",
    "    print(f\"Mode X for {file_name} = {round(statzcw.zmode(data['x']),4)}\")\n",
    "    print(f\"Mode Y for {file_name} = {round(statzcw.zmode(data['y']),4)}\")\n",
    "    print(f\"Standard Deviation X for {file_name} = {round(statzcw.zstddev(data['x']),4)}\")\n",
    "    print(f\"Standard Deviation Y for {file_name} = {round(statzcw.zstddev(data['y']),4)}\")\n",
    "    print(f\"Standard Error X for {file_name} = {round(statzcw.zstderr(data['x']),4)}\")\n",
    "    print(f\"Standard Error Y for {file_name} = {round(statzcw.zstderr(data['y']),4)}\")\n",
    "    print(f\"data x = {data['x']}\")\n",
    "    print(f\"data y = {data['y']}\")\n",
    "    print(\"\\n\\n\\n\")\n",
    "\n",
    "    "
   ]
  },
  {
   "cell_type": "markdown",
   "metadata": {},
   "source": [
    "## Things we can tell\n",
    "\n"
   ]
  },
  {
   "cell_type": "markdown",
   "metadata": {},
   "source": [
    "Either I did something very wrong or these appear to perhaps be pulled from the same dataset designed to give similar results.\n",
    "\n",
    "Aside from the mode the results are very similar, and only one set really has a mode\n",
    "\n",
    "The medians for y vary a little bit (not not much)"
   ]
  },
  {
   "cell_type": "markdown",
   "metadata": {},
   "source": []
  },
  {
   "cell_type": "markdown",
   "metadata": {},
   "source": []
  }
 ],
 "metadata": {
  "interpreter": {
   "hash": "aee8b7b246df8f9039afb4144a1f6fd8d2ca17a180786b69acc140d282b71a49"
  },
  "kernelspec": {
   "display_name": "Python 3.9.7 64-bit",
   "language": "python",
   "name": "python3"
  },
  "language_info": {
   "codemirror_mode": {
    "name": "ipython",
    "version": 3
   },
   "file_extension": ".py",
   "mimetype": "text/x-python",
   "name": "python",
   "nbconvert_exporter": "python",
   "pygments_lexer": "ipython3",
   "version": "3.9.7"
  },
  "orig_nbformat": 4
 },
 "nbformat": 4,
 "nbformat_minor": 2
}
